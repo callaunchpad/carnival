{
 "cells": [
  {
   "cell_type": "code",
   "execution_count": 95,
   "id": "b7792bb2-92ae-43fc-b9fb-94004875cfed",
   "metadata": {},
   "outputs": [
    {
     "name": "stderr",
     "output_type": "stream",
     "text": [
      "huggingface/tokenizers: The current process just got forked, after parallelism has already been used. Disabling parallelism to avoid deadlocks...\n",
      "To disable this warning, you can either:\n",
      "\t- Avoid using `tokenizers` before the fork if possible\n",
      "\t- Explicitly set the environment variable TOKENIZERS_PARALLELISM=(true | false)\n"
     ]
    },
    {
     "name": "stdout",
     "output_type": "stream",
     "text": [
      "Requirement already satisfied: matplotlib in /usr/local/lib/python3.10/dist-packages (3.10.1)\n",
      "Requirement already satisfied: contourpy>=1.0.1 in /usr/local/lib/python3.10/dist-packages (from matplotlib) (1.3.1)\n",
      "Requirement already satisfied: cycler>=0.10 in /usr/local/lib/python3.10/dist-packages (from matplotlib) (0.12.1)\n",
      "Requirement already satisfied: fonttools>=4.22.0 in /usr/local/lib/python3.10/dist-packages (from matplotlib) (4.57.0)\n",
      "Requirement already satisfied: kiwisolver>=1.3.1 in /usr/local/lib/python3.10/dist-packages (from matplotlib) (1.4.8)\n",
      "Requirement already satisfied: numpy>=1.23 in /usr/local/lib/python3.10/dist-packages (from matplotlib) (1.24.1)\n",
      "Requirement already satisfied: packaging>=20.0 in /usr/local/lib/python3.10/dist-packages (from matplotlib) (23.2)\n",
      "Requirement already satisfied: pillow>=8 in /usr/local/lib/python3.10/dist-packages (from matplotlib) (9.3.0)\n",
      "Requirement already satisfied: pyparsing>=2.3.1 in /usr/lib/python3/dist-packages (from matplotlib) (2.4.7)\n",
      "Requirement already satisfied: python-dateutil>=2.7 in /usr/local/lib/python3.10/dist-packages (from matplotlib) (2.8.2)\n",
      "Requirement already satisfied: six>=1.5 in /usr/lib/python3/dist-packages (from python-dateutil>=2.7->matplotlib) (1.16.0)\n",
      "\u001b[33mWARNING: Running pip as the 'root' user can result in broken permissions and conflicting behaviour with the system package manager. It is recommended to use a virtual environment instead: https://pip.pypa.io/warnings/venv\u001b[0m\u001b[33m\n",
      "\u001b[0m\n",
      "\u001b[1m[\u001b[0m\u001b[34;49mnotice\u001b[0m\u001b[1;39;49m]\u001b[0m\u001b[39;49m A new release of pip is available: \u001b[0m\u001b[31;49m23.3.1\u001b[0m\u001b[39;49m -> \u001b[0m\u001b[32;49m25.0.1\u001b[0m\n",
      "\u001b[1m[\u001b[0m\u001b[34;49mnotice\u001b[0m\u001b[1;39;49m]\u001b[0m\u001b[39;49m To update, run: \u001b[0m\u001b[32;49mpython -m pip install --upgrade pip\u001b[0m\n"
     ]
    },
    {
     "name": "stderr",
     "output_type": "stream",
     "text": [
      "huggingface/tokenizers: The current process just got forked, after parallelism has already been used. Disabling parallelism to avoid deadlocks...\n",
      "To disable this warning, you can either:\n",
      "\t- Avoid using `tokenizers` before the fork if possible\n",
      "\t- Explicitly set the environment variable TOKENIZERS_PARALLELISM=(true | false)\n"
     ]
    },
    {
     "name": "stdout",
     "output_type": "stream",
     "text": [
      "Requirement already satisfied: transformers in /usr/local/lib/python3.10/dist-packages (4.50.3)\n",
      "Requirement already satisfied: filelock in /usr/local/lib/python3.10/dist-packages (from transformers) (3.9.0)\n",
      "Requirement already satisfied: huggingface-hub<1.0,>=0.26.0 in /usr/local/lib/python3.10/dist-packages (from transformers) (0.30.1)\n",
      "Requirement already satisfied: numpy>=1.17 in /usr/local/lib/python3.10/dist-packages (from transformers) (1.24.1)\n",
      "Requirement already satisfied: packaging>=20.0 in /usr/local/lib/python3.10/dist-packages (from transformers) (23.2)\n",
      "Requirement already satisfied: pyyaml>=5.1 in /usr/local/lib/python3.10/dist-packages (from transformers) (6.0.1)\n",
      "Requirement already satisfied: regex!=2019.12.17 in /usr/local/lib/python3.10/dist-packages (from transformers) (2024.11.6)\n",
      "Requirement already satisfied: requests in /usr/local/lib/python3.10/dist-packages (from transformers) (2.31.0)\n",
      "Requirement already satisfied: tokenizers<0.22,>=0.21 in /usr/local/lib/python3.10/dist-packages (from transformers) (0.21.1)\n",
      "Requirement already satisfied: safetensors>=0.4.3 in /usr/local/lib/python3.10/dist-packages (from transformers) (0.5.3)\n",
      "Requirement already satisfied: tqdm>=4.27 in /usr/local/lib/python3.10/dist-packages (from transformers) (4.67.1)\n",
      "Requirement already satisfied: fsspec>=2023.5.0 in /usr/local/lib/python3.10/dist-packages (from huggingface-hub<1.0,>=0.26.0->transformers) (2025.3.2)\n",
      "Requirement already satisfied: typing-extensions>=3.7.4.3 in /usr/local/lib/python3.10/dist-packages (from huggingface-hub<1.0,>=0.26.0->transformers) (4.4.0)\n",
      "Requirement already satisfied: charset-normalizer<4,>=2 in /usr/local/lib/python3.10/dist-packages (from requests->transformers) (2.1.1)\n",
      "Requirement already satisfied: idna<4,>=2.5 in /usr/local/lib/python3.10/dist-packages (from requests->transformers) (3.4)\n",
      "Requirement already satisfied: urllib3<3,>=1.21.1 in /usr/local/lib/python3.10/dist-packages (from requests->transformers) (1.26.13)\n",
      "Requirement already satisfied: certifi>=2017.4.17 in /usr/local/lib/python3.10/dist-packages (from requests->transformers) (2022.12.7)\n",
      "\u001b[33mWARNING: Running pip as the 'root' user can result in broken permissions and conflicting behaviour with the system package manager. It is recommended to use a virtual environment instead: https://pip.pypa.io/warnings/venv\u001b[0m\u001b[33m\n",
      "\u001b[0m\n",
      "\u001b[1m[\u001b[0m\u001b[34;49mnotice\u001b[0m\u001b[1;39;49m]\u001b[0m\u001b[39;49m A new release of pip is available: \u001b[0m\u001b[31;49m23.3.1\u001b[0m\u001b[39;49m -> \u001b[0m\u001b[32;49m25.0.1\u001b[0m\n",
      "\u001b[1m[\u001b[0m\u001b[34;49mnotice\u001b[0m\u001b[1;39;49m]\u001b[0m\u001b[39;49m To update, run: \u001b[0m\u001b[32;49mpython -m pip install --upgrade pip\u001b[0m\n"
     ]
    },
    {
     "name": "stderr",
     "output_type": "stream",
     "text": [
      "huggingface/tokenizers: The current process just got forked, after parallelism has already been used. Disabling parallelism to avoid deadlocks...\n",
      "To disable this warning, you can either:\n",
      "\t- Avoid using `tokenizers` before the fork if possible\n",
      "\t- Explicitly set the environment variable TOKENIZERS_PARALLELISM=(true | false)\n"
     ]
    },
    {
     "name": "stdout",
     "output_type": "stream",
     "text": [
      "Requirement already satisfied: accelerate in /usr/local/lib/python3.10/dist-packages (1.6.0)\n",
      "Requirement already satisfied: numpy<3.0.0,>=1.17 in /usr/local/lib/python3.10/dist-packages (from accelerate) (1.24.1)\n",
      "Requirement already satisfied: packaging>=20.0 in /usr/local/lib/python3.10/dist-packages (from accelerate) (23.2)\n",
      "Requirement already satisfied: psutil in /usr/local/lib/python3.10/dist-packages (from accelerate) (5.9.6)\n",
      "Requirement already satisfied: pyyaml in /usr/local/lib/python3.10/dist-packages (from accelerate) (6.0.1)\n",
      "Requirement already satisfied: torch>=2.0.0 in /usr/local/lib/python3.10/dist-packages (from accelerate) (2.1.0+cu118)\n",
      "Requirement already satisfied: huggingface-hub>=0.21.0 in /usr/local/lib/python3.10/dist-packages (from accelerate) (0.30.1)\n",
      "Requirement already satisfied: safetensors>=0.4.3 in /usr/local/lib/python3.10/dist-packages (from accelerate) (0.5.3)\n",
      "Requirement already satisfied: filelock in /usr/local/lib/python3.10/dist-packages (from huggingface-hub>=0.21.0->accelerate) (3.9.0)\n",
      "Requirement already satisfied: fsspec>=2023.5.0 in /usr/local/lib/python3.10/dist-packages (from huggingface-hub>=0.21.0->accelerate) (2025.3.2)\n",
      "Requirement already satisfied: requests in /usr/local/lib/python3.10/dist-packages (from huggingface-hub>=0.21.0->accelerate) (2.31.0)\n",
      "Requirement already satisfied: tqdm>=4.42.1 in /usr/local/lib/python3.10/dist-packages (from huggingface-hub>=0.21.0->accelerate) (4.67.1)\n",
      "Requirement already satisfied: typing-extensions>=3.7.4.3 in /usr/local/lib/python3.10/dist-packages (from huggingface-hub>=0.21.0->accelerate) (4.4.0)\n",
      "Requirement already satisfied: sympy in /usr/local/lib/python3.10/dist-packages (from torch>=2.0.0->accelerate) (1.12)\n",
      "Requirement already satisfied: networkx in /usr/local/lib/python3.10/dist-packages (from torch>=2.0.0->accelerate) (3.0)\n",
      "Requirement already satisfied: jinja2 in /usr/local/lib/python3.10/dist-packages (from torch>=2.0.0->accelerate) (3.1.2)\n",
      "Requirement already satisfied: triton==2.1.0 in /usr/local/lib/python3.10/dist-packages (from torch>=2.0.0->accelerate) (2.1.0)\n",
      "Requirement already satisfied: MarkupSafe>=2.0 in /usr/local/lib/python3.10/dist-packages (from jinja2->torch>=2.0.0->accelerate) (2.1.2)\n",
      "Requirement already satisfied: charset-normalizer<4,>=2 in /usr/local/lib/python3.10/dist-packages (from requests->huggingface-hub>=0.21.0->accelerate) (2.1.1)\n",
      "Requirement already satisfied: idna<4,>=2.5 in /usr/local/lib/python3.10/dist-packages (from requests->huggingface-hub>=0.21.0->accelerate) (3.4)\n",
      "Requirement already satisfied: urllib3<3,>=1.21.1 in /usr/local/lib/python3.10/dist-packages (from requests->huggingface-hub>=0.21.0->accelerate) (1.26.13)\n",
      "Requirement already satisfied: certifi>=2017.4.17 in /usr/local/lib/python3.10/dist-packages (from requests->huggingface-hub>=0.21.0->accelerate) (2022.12.7)\n",
      "Requirement already satisfied: mpmath>=0.19 in /usr/local/lib/python3.10/dist-packages (from sympy->torch>=2.0.0->accelerate) (1.3.0)\n",
      "\u001b[33mWARNING: Running pip as the 'root' user can result in broken permissions and conflicting behaviour with the system package manager. It is recommended to use a virtual environment instead: https://pip.pypa.io/warnings/venv\u001b[0m\u001b[33m\n",
      "\u001b[0m\n",
      "\u001b[1m[\u001b[0m\u001b[34;49mnotice\u001b[0m\u001b[1;39;49m]\u001b[0m\u001b[39;49m A new release of pip is available: \u001b[0m\u001b[31;49m23.3.1\u001b[0m\u001b[39;49m -> \u001b[0m\u001b[32;49m25.0.1\u001b[0m\n",
      "\u001b[1m[\u001b[0m\u001b[34;49mnotice\u001b[0m\u001b[1;39;49m]\u001b[0m\u001b[39;49m To update, run: \u001b[0m\u001b[32;49mpython -m pip install --upgrade pip\u001b[0m\n"
     ]
    }
   ],
   "source": [
    "!pip install matplotlib\n",
    "!pip install transformers\n",
    "!pip install accelerate"
   ]
  },
  {
   "cell_type": "code",
   "execution_count": 96,
   "id": "efbbed04-3df4-4697-bd23-ffb2715ce532",
   "metadata": {},
   "outputs": [],
   "source": [
    "import os\n",
    "import json\n",
    "import argparse\n",
    "import torch\n",
    "import torch.nn.functional as F\n",
    "import matplotlib.pyplot as plt\n",
    "import datetime\n",
    "from transformers import AutoModelForCausalLM, AutoTokenizer"
   ]
  },
  {
   "cell_type": "code",
   "execution_count": 97,
   "id": "c0bee7ea-fbe2-40f9-9a32-83c2df4a83f1",
   "metadata": {},
   "outputs": [],
   "source": [
    "timestamp = datetime.datetime.now().strftime(\"%d%H%M\")\n",
    "\n",
    "device = torch.device(\"cuda\")"
   ]
  },
  {
   "cell_type": "code",
   "execution_count": 98,
   "id": "5b00974d-75eb-4126-8ecf-54f6d1274980",
   "metadata": {},
   "outputs": [],
   "source": [
    "class Neuron:\n",
    "    def __init__(self, layer, neuron, token):\n",
    "        self.layer = layer\n",
    "        self.neuron = neuron\n",
    "        self.token = token"
   ]
  },
  {
   "cell_type": "code",
   "execution_count": 99,
   "id": "6a762445-91b1-4913-a395-7f24ea9b181d",
   "metadata": {},
   "outputs": [],
   "source": [
    "def load_model(args):\n",
    "    model_name_or_path = args.model\n",
    "    model = AutoModelForCausalLM.from_pretrained(\n",
    "        model_name_or_path,\n",
    "        torch_dtype=torch.bfloat16,\n",
    "        trust_remote_code=True,\n",
    "        device_map=\"auto\",\n",
    "    )\n",
    "    tokenizer = AutoTokenizer.from_pretrained(\n",
    "        model_name_or_path, trust_remote_code=True, use_fast=False\n",
    "    )\n",
    "    tokenizer.pad_token_id = tokenizer.eos_token_id\n",
    "    tokenizer.padding_side = \"left\"\n",
    "    tokenizer.mask_token_id = tokenizer.eos_token_id\n",
    "    tokenizer.sep_token_id = tokenizer.eos_token_id\n",
    "    tokenizer.cls_token_id = tokenizer.eos_token_id\n",
    "\n",
    "    if any([n in model_name_or_path for n in [\"llama\", \"zephyr\", \"gemma\", \"mistral\", \"Qwen\", \"llava\"]]):\n",
    "        module_str_dict = {\n",
    "            \"layer\": \"model.model.layers[{layer_idx}]\",\n",
    "            \"attn\": \"model.model.layers[{layer_idx}].self_attn.o_proj\",\n",
    "        }\n",
    "        n_layers = len(model.model.layers)\n",
    "    elif \"gpt-j\" in model_name_or_path:\n",
    "        module_str_dict = {\n",
    "            \"layer\": \"model.transformer.h[{layer_idx}]\",\n",
    "            \"attn\": \"model.transformer.h[{layer_idx}].attn.o_proj\",\n",
    "        }\n",
    "        n_layers = len(model.transformer.h)\n",
    "    elif \"opt\" in model_name_or_path:\n",
    "        module_str_dict = {\n",
    "            \"layer\": \"model.model.decoder.layers[{layer_idx}]\",\n",
    "            \"attn\": \"model.model.decoder.layers[{layer_idx}].self_attn.o_proj\",\n",
    "        }\n",
    "        n_layers = len(model.model.decoder.layers)\n",
    "    args.module_str_dict = module_str_dict\n",
    "    args.n_layers = n_layers\n",
    "    return model, tokenizer"
   ]
  },
  {
   "cell_type": "code",
   "execution_count": 100,
   "id": "9926e4da-0db4-45f3-b4cb-87d92f0051f7",
   "metadata": {},
   "outputs": [],
   "source": [
    "def steer_token_activations_logits(model_a, tokenizer, input_strings, args_b, neuron_list_to_steer, token_a, token_b):\n",
    "    \"\"\"\n",
    "    Given a list of neurons (with attributes layer, neuron, token) to steer,\n",
    "    progressively applies interventions on the activations and returns the changes in \n",
    "    log probabilities for token_a and token_b.\n",
    "    \n",
    "    for now, the intervention here is done by zeroing out the activation of the specified neuron at the specified token position.\n",
    "    \"\"\"\n",
    "    # Format each input string into a chat-style prompt\n",
    "    input_formatted_list = []\n",
    "    for input_string in input_strings:\n",
    "        input_formatted = [\n",
    "            {\"role\": \"user\", \"content\": input_string + \" Question: ?\"},\n",
    "            {\"role\": \"assistant\", \"content\": \"Answer: \"}\n",
    "        ]\n",
    "        # Assume the tokenizer has a method to apply the chat template\n",
    "        formatted_input = tokenizer.apply_chat_template(\n",
    "            input_formatted, tokenize=False, continue_final_message=True\n",
    "        )\n",
    "        input_formatted_list.append(formatted_input)\n",
    "    \n",
    "    final_list = input_formatted_list\n",
    "    if not final_list:\n",
    "        print(\"No valid inputs to process.\")\n",
    "        return None, None\n",
    "    print(f\"Length of final_list: {len(final_list)}\")\n",
    "    \n",
    "    # Tokenize the batch (assumes tokenizer returns a dict with 'input_ids', etc.)\n",
    "    batch = tokenizer(final_list, return_tensors=\"pt\", padding=True)\n",
    "    # Ensure inputs are on the same device as the model\n",
    "    device = next(model_a.parameters()).device\n",
    "    batch = {k: v.to(device) for k, v in batch.items()}\n",
    "    \n",
    "    # Baseline forward pass without interventions\n",
    "    model_a.eval()\n",
    "    with torch.no_grad():\n",
    "        baseline_output = model_a(**batch)\n",
    "        # Assume output is a ModelOutput with logits of shape (batch, seq_len, vocab_size)\n",
    "        baseline_logits = baseline_output.logits[0]  # take first element (shape: [seq_len, vocab_size])\n",
    "        baseline_log_probs = F.log_softmax(baseline_logits, dim=-1)\n",
    "        # Here we take the log probability from the last token in the sequence.\n",
    "        baseline_log_prob_a = baseline_log_probs[-1, token_a]\n",
    "        baseline_log_prob_b = baseline_log_probs[-1, token_b]\n",
    "    \n",
    "    # Prepare lists to store the changes in log probability for each intervention step\n",
    "    log_prob_a_changes = []\n",
    "    log_prob_b_changes = []\n",
    "    \n",
    "    # Sort the list of neurons for consistency (each neuron should have attributes: layer, neuron, token)\n",
    "    neuron_list_to_steer = sorted(neuron_list_to_steer, key=lambda x: (x.layer, x.token, x.neuron))\n",
    "    \n",
    "    # For a progressive intervention, we gradually add one more neuron each step.\n",
    "    num_interventions = len(neuron_list_to_steer)\n",
    "    for k in range(num_interventions + 1):\n",
    "        # Intervene on the first k neurons in the sorted list.\n",
    "        current_interventions = neuron_list_to_steer[:k]\n",
    "        \n",
    "        # Group interventions by layer; each entry is a list of (neuron_index, token_index)\n",
    "        interventions_by_layer = {}\n",
    "        for neuron in current_interventions:\n",
    "            interventions_by_layer.setdefault(neuron.layer, []).append((neuron.neuron, neuron.token))\n",
    "        \n",
    "        # Prepare a list to hold hook handles so we can remove them after the forward pass.\n",
    "        hooks = []\n",
    "        \n",
    "        # Define a factory that creates a hook for a given layer index.\n",
    "        def get_hook(layer_idx):\n",
    "            def hook(module, inputs, output):\n",
    "                # output: tensor of shape (batch, seq_len, hidden_dim)\n",
    "                if layer_idx in interventions_by_layer:\n",
    "                    for (n_idx, t_idx) in interventions_by_layer[layer_idx]:\n",
    "                        # Zero out the activation at the specified token (t_idx) and neuron index (n_idx)\n",
    "                        # (Assuming t_idx is a valid index in the sequence length)\n",
    "                        output[:, t_idx, n_idx] = 10.0\n",
    "                return output\n",
    "            return hook\n",
    "        \n",
    "        # Register hooks for each layer that requires intervention.\n",
    "        for layer_idx in interventions_by_layer.keys():\n",
    "            # Retrieve the module where interventions should be applied.\n",
    "            # (This assumes that your model has an attribute model.layers and each layer has an mlp.down_proj module.)\n",
    "            # module = model_a.model.layers[layer_idx].mlp.down_proj\n",
    "            module = model_a.model.layers[layer_idx].mlp.up_proj\n",
    "            handle = module.register_forward_hook(get_hook(layer_idx))\n",
    "            hooks.append(handle)\n",
    "        \n",
    "        # Forward pass with the current interventions in place\n",
    "        with torch.no_grad():\n",
    "            intervened_output = model_a(**batch)\n",
    "            intervened_logits = intervened_output.logits[0]\n",
    "            intervened_log_probs = F.log_softmax(intervened_logits, dim=-1)\n",
    "            # Again, assume we are interested in the log probs at the final token position.\n",
    "            intervened_log_prob_a = intervened_log_probs[-1, token_a]\n",
    "            intervened_log_prob_b = intervened_log_probs[-1, token_b]\n",
    "        \n",
    "        # Remove the hooks to restore original behavior\n",
    "        for handle in hooks:\n",
    "            handle.remove()\n",
    "        \n",
    "        # Compute the change in log probability relative to baseline\n",
    "        delta_a = intervened_log_prob_a - baseline_log_prob_a\n",
    "        delta_b = intervened_log_prob_b - baseline_log_prob_b\n",
    "        \n",
    "        log_prob_a_changes.append(delta_a)\n",
    "        log_prob_b_changes.append(delta_b)\n",
    "    \n",
    "    return log_prob_a_changes, log_prob_b_changes"
   ]
  },
  {
   "cell_type": "code",
   "execution_count": 101,
   "id": "2580433a-0007-4396-93b2-56f646b3104a",
   "metadata": {},
   "outputs": [],
   "source": [
    "def get_args():\n",
    "    parser = argparse.ArgumentParser()\n",
    "    # parser.add_argument(\"--model\", type=str, default=\"/data/huggingface/models--meta-llama--Meta-Llama-3.1-8B-Instruct/snapshots/5206a32e0bd3067aef1ce90f5528ade7d866253f\")\n",
    "    parser.add_argument(\"--model\", type=str, default=\"meta-llama/Llama-3.1-8B-Instruct\")\n",
    "    parser.add_argument(\"--layer-skip\", type=int, default=3)\n",
    "    parser.add_argument(\"--batch-size\", \"-bs\", type=int, default=10)\n",
    "    return parser.parse_args(args=[])"
   ]
  },
  {
   "cell_type": "code",
   "execution_count": 102,
   "id": "b17f1e48-e2d7-44b6-a20d-aeba68b44272",
   "metadata": {},
   "outputs": [],
   "source": [
    "def plot_results(log_prob_a_changes, log_prob_b_changes, token_a, token_b):\n",
    "    x_labels = [str(i) for i in range(len(log_prob_a_changes))]\n",
    "    plt.figure(figsize=(12, 8))\n",
    "    \n",
    "    plt.plot(range(len(log_prob_a_changes)), log_prob_a_changes, marker='o', label=f\"Token A ({token_a})\")\n",
    "    plt.plot(range(len(log_prob_b_changes)), log_prob_b_changes, marker='x', label=f\"Token B ({token_b})\")\n",
    "    \n",
    "    for i, (a, b) in enumerate(zip(log_prob_a_changes, log_prob_b_changes)):\n",
    "        plt.text(i, a.item(), f'{a.item():.2f}', ha='center', va='bottom', fontsize=8)\n",
    "        plt.text(i, b.item(), f'{b.item():.2f}', ha='center', va='bottom', fontsize=8)\n",
    "    \n",
    "    plt.xlabel('Neurons Steered')\n",
    "    plt.ylabel('Log Probability')\n",
    "    plt.title('Log Probability Changes Across Neuron Steer')\n",
    "    plt.legend()\n",
    "    plt.xticks(range(len(x_labels)), x_labels)\n",
    "    plt.grid(True)\n",
    "    plt.savefig(f'figures/neuron_steer_{timestamp}.png')\n",
    "    plt.show()"
   ]
  },
  {
   "cell_type": "code",
   "execution_count": 103,
   "id": "22fd8891-6758-434d-9f58-d5c15d36f704",
   "metadata": {},
   "outputs": [
    {
     "data": {
      "application/vnd.jupyter.widget-view+json": {
       "model_id": "23c7c4b6f40c426ea387f163d7214b7e",
       "version_major": 2,
       "version_minor": 0
      },
      "text/plain": [
       "VBox(children=(HTML(value='<center> <img\\nsrc=https://huggingface.co/front/assets/huggingface_logo-noborder.sv…"
      ]
     },
     "metadata": {},
     "output_type": "display_data"
    }
   ],
   "source": [
    "from huggingface_hub import login\n",
    "login()"
   ]
  },
  {
   "cell_type": "code",
   "execution_count": 104,
   "id": "05aae5aa-8354-46f5-8c86-236e6a113435",
   "metadata": {},
   "outputs": [
    {
     "data": {
      "application/vnd.jupyter.widget-view+json": {
       "model_id": "c6a21573b7d14d95b0cf4c945c1a5b39",
       "version_major": 2,
       "version_minor": 0
      },
      "text/plain": [
       "Loading checkpoint shards:   0%|          | 0/4 [00:00<?, ?it/s]"
      ]
     },
     "metadata": {},
     "output_type": "display_data"
    },
    {
     "data": {
      "text/plain": [
       "LlamaForCausalLM(\n",
       "  (model): LlamaModel(\n",
       "    (embed_tokens): Embedding(128256, 4096)\n",
       "    (layers): ModuleList(\n",
       "      (0-31): 32 x LlamaDecoderLayer(\n",
       "        (self_attn): LlamaAttention(\n",
       "          (q_proj): Linear(in_features=4096, out_features=4096, bias=False)\n",
       "          (k_proj): Linear(in_features=4096, out_features=1024, bias=False)\n",
       "          (v_proj): Linear(in_features=4096, out_features=1024, bias=False)\n",
       "          (o_proj): Linear(in_features=4096, out_features=4096, bias=False)\n",
       "        )\n",
       "        (mlp): LlamaMLP(\n",
       "          (gate_proj): Linear(in_features=4096, out_features=14336, bias=False)\n",
       "          (up_proj): Linear(in_features=4096, out_features=14336, bias=False)\n",
       "          (down_proj): Linear(in_features=14336, out_features=4096, bias=False)\n",
       "          (act_fn): SiLU()\n",
       "        )\n",
       "        (input_layernorm): LlamaRMSNorm((4096,), eps=1e-05)\n",
       "        (post_attention_layernorm): LlamaRMSNorm((4096,), eps=1e-05)\n",
       "      )\n",
       "    )\n",
       "    (norm): LlamaRMSNorm((4096,), eps=1e-05)\n",
       "    (rotary_emb): LlamaRotaryEmbedding()\n",
       "  )\n",
       "  (lm_head): Linear(in_features=4096, out_features=128256, bias=False)\n",
       ")"
      ]
     },
     "execution_count": 104,
     "metadata": {},
     "output_type": "execute_result"
    }
   ],
   "source": [
    "args = get_args()\n",
    "model_a, tokenizer = load_model(args)\n",
    "model_a.to(device)"
   ]
  },
  {
   "cell_type": "code",
   "execution_count": 105,
   "id": "479011d6-339b-408b-8ad7-ccbb0dff5cbe",
   "metadata": {},
   "outputs": [],
   "source": [
    "token1 = \"harm\"\n",
    "token2 = \"assault\"\n",
    "\n",
    "prompts = [\"An example of a crime is \"]\n",
    "\n",
    "for i in prompts:\n",
    "    inputs = tokenizer.apply_chat_template([{\"role\" : \"user\", \"content\": i}, {\"role\": \"assistant\", \"content\": \"\"}])\n",
    "    # print(inputs)\n",
    "\n",
    "    input_ids = inputs\n",
    "\n",
    "    tokens = tokenizer.convert_ids_to_tokens(input_ids)\n",
    "    token_text_pairs = zip(tokens, input_ids)\n",
    "    i = 0\n",
    "    for token, token_id in token_text_pairs:\n",
    "        # print(f\"Token {i}: {token}, Token ID: {token_id}\")\n",
    "        i += 1\n",
    "    \n",
    "token_a = tokenizer.convert_tokens_to_ids(f\"Ġ{token1}\")\n",
    "token_b = tokenizer.convert_tokens_to_ids(f\"Ġ{token2}\")"
   ]
  },
  {
   "cell_type": "code",
   "execution_count": 106,
   "id": "aa35e710-8796-4bc7-927e-dd46aa3f951b",
   "metadata": {},
   "outputs": [],
   "source": [
    "neuron_paths = [\"meta-llama/Meta-Llama-3.1-8B-Instruct_7_8447_None\"]\n",
    "neuron_descriptions = [ \"tokens related to harm or inappropriate behavior, specifically those indicating contact or action with minors (e.g., \\\"mole{{sts}}\\\", \\\"molester\\\", \\\"sut{{ure}}\\\", \\\"congregation\\\"), and tokens related to detailed physical or surgical terms (e.g., \\\"rect{{al}}\\\", \\\"s{{uture}}\\\").\"]\n",
    "neuron_list_to_steer = []\n",
    "for neuron_path in neuron_paths:\n",
    "    layer = neuron_path.split(\"_\")[-3]\n",
    "    neuron = neuron_path.split(\"_\")[-2]\n",
    "    neuron_list_to_steer.append(Neuron(int(layer), int(neuron), -1))"
   ]
  },
  {
   "cell_type": "code",
   "execution_count": 107,
   "id": "72d9d873-fbe3-4942-aefc-36516b1483e1",
   "metadata": {},
   "outputs": [
    {
     "name": "stdout",
     "output_type": "stream",
     "text": [
      "Length of final_list: 1\n"
     ]
    }
   ],
   "source": [
    "log_prob_a_changes, log_prob_b_changes = steer_token_activations_logits(\n",
    "    model_a, tokenizer, prompts, args, neuron_list_to_steer, token_a, token_b\n",
    ")"
   ]
  },
  {
   "cell_type": "code",
   "execution_count": 108,
   "id": "9a1f2c69-ca1c-4690-8b3a-85b17b8ff522",
   "metadata": {},
   "outputs": [
    {
     "data": {
      "text/plain": [
       "[tensor(0., device='cuda:0', dtype=torch.bfloat16),\n",
       " tensor(-0.1250, device='cuda:0', dtype=torch.bfloat16)]"
      ]
     },
     "execution_count": 108,
     "metadata": {},
     "output_type": "execute_result"
    }
   ],
   "source": [
    "log_prob_b_changes"
   ]
  },
  {
   "cell_type": "code",
   "execution_count": 109,
   "id": "de3d6ed2-56b3-410c-a9da-dfb08cce4fc9",
   "metadata": {},
   "outputs": [
    {
     "name": "stdout",
     "output_type": "stream",
     "text": [
      "mkdir: cannot create directory ‘figures’: File exists\n"
     ]
    },
    {
     "name": "stderr",
     "output_type": "stream",
     "text": [
      "huggingface/tokenizers: The current process just got forked, after parallelism has already been used. Disabling parallelism to avoid deadlocks...\n",
      "To disable this warning, you can either:\n",
      "\t- Avoid using `tokenizers` before the fork if possible\n",
      "\t- Explicitly set the environment variable TOKENIZERS_PARALLELISM=(true | false)\n"
     ]
    }
   ],
   "source": [
    "!mkdir figures"
   ]
  },
  {
   "cell_type": "code",
   "execution_count": 110,
   "id": "497a8bf8-579c-4b00-9019-8ebc11e432a6",
   "metadata": {},
   "outputs": [
    {
     "name": "stdout",
     "output_type": "stream",
     "text": [
      "token1='harm'\n",
      "token2='assault'\n"
     ]
    },
    {
     "data": {
      "image/png": "[encoded data removed]",
      "text/plain": [
       "<Figure size 1200x800 with 1 Axes>"
      ]
     },
     "metadata": {},
     "output_type": "display_data"
    }
   ],
   "source": [
    "print(f\"{token1=}\")\n",
    "print(f\"{token2=}\")\n",
    "plot_results([change.cpu().float() for change in log_prob_a_changes], \n",
    "             [change.cpu().float() for change in log_prob_b_changes], \n",
    "             token_a, token_b)"
   ]
  },
  {
   "cell_type": "code",
   "execution_count": null,
   "id": "86aad663-712d-490a-8aba-30655967ad92",
   "metadata": {},
   "outputs": [],
   "source": []
  }
 ],
 "metadata": {
  "kernelspec": {
   "display_name": "Python 3 (ipykernel)",
   "language": "python",
   "name": "python3"
  },
  "language_info": {
   "codemirror_mode": {
    "name": "ipython",
    "version": 3
   },
   "file_extension": ".py",
   "mimetype": "text/x-python",
   "name": "python",
   "nbconvert_exporter": "python",
   "pygments_lexer": "ipython3",
   "version": "3.10.12"
  }
 },
 "nbformat": 4,
 "nbformat_minor": 5
}
