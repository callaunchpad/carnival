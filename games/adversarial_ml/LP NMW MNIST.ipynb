{
  "cells": [
    {
      "cell_type": "code",
      "execution_count": 1,
      "metadata": {
        "colab": {
          "base_uri": "https://localhost:8080/"
        },
        "collapsed": true,
        "id": "_d7Jxg6Trxl_",
        "outputId": "b2e9672a-ed72-4122-90d9-1f79a91bd233"
      },
      "outputs": [
        {
          "name": "stderr",
          "output_type": "stream",
          "text": [
            "100.0%\n",
            "100.0%\n",
            "100.0%\n",
            "100.0%"
          ]
        },
        {
          "name": "stdout",
          "output_type": "stream",
          "text": [
            "Image batch shape: torch.Size([64, 1, 28, 28])\n",
            "Labels batch shape: torch.Size([64])\n"
          ]
        },
        {
          "name": "stderr",
          "output_type": "stream",
          "text": [
            "\n"
          ]
        }
      ],
      "source": [
        "import torch\n",
        "from torch import nn\n",
        "from torch.utils.data import DataLoader\n",
        "from torchvision import datasets, transforms\n",
        "import numpy as np\n",
        "\n",
        "# Define a transform to convert images to PyTorch tensors\n",
        "transform = transforms.Compose([\n",
        "    transforms.ToTensor(),\n",
        "    # You can add other transforms like normalization here if needed, for example:\n",
        "    # transforms.Normalize((0.1307,), (0.3081,))\n",
        "])\n",
        "\n",
        "# Download and create train and test datasets\n",
        "train_dataset = datasets.MNIST(\n",
        "    root='mnist_data',\n",
        "    train=True,\n",
        "    transform=transform,\n",
        "    download=True\n",
        ")\n",
        "\n",
        "test_dataset = datasets.MNIST(\n",
        "    root='mnist_data',\n",
        "    train=False,\n",
        "    transform=transform,\n",
        "    download=True\n",
        ")\n",
        "\n",
        "# Create data loaders for training and testing\n",
        "train_loader = DataLoader(\n",
        "    dataset=train_dataset,\n",
        "    batch_size=64,\n",
        "    shuffle=True\n",
        ")\n",
        "\n",
        "test_loader = DataLoader(\n",
        "    dataset=test_dataset,\n",
        "    batch_size=64,\n",
        "    shuffle=False\n",
        ")\n",
        "\n",
        "# Example: iterate through a single batch of data\n",
        "images, labels = next(iter(train_loader))\n",
        "print(f\"Image batch shape: {images.size()}\")\n",
        "print(f\"Labels batch shape: {labels.size()}\")\n"
      ]
    },
    {
      "cell_type": "code",
      "execution_count": 7,
      "metadata": {
        "colab": {
          "base_uri": "https://localhost:8080/",
          "height": 448
        },
        "collapsed": true,
        "id": "u_2fx2Ert2Ov",
        "outputId": "b280ff14-d2a8-45e5-c4cf-eda0899fb67c"
      },
      "outputs": [
        {
          "data": {
            "text/plain": [
              "<matplotlib.image.AxesImage at 0x125226990>"
            ]
          },
          "execution_count": 7,
          "metadata": {},
          "output_type": "execute_result"
        },
        {
          "data": {
            "image/png": "[encoded data removed]",
            "text/plain": [
              "<Figure size 640x480 with 1 Axes>"
            ]
          },
          "metadata": {},
          "output_type": "display_data"
        }
      ],
      "source": [
        "import matplotlib.pyplot as plt\n",
        "plt.imshow(images[1].reshape(28, 28, 1))"
      ]
    },
    {
      "cell_type": "code",
      "execution_count": 20,
      "metadata": {},
      "outputs": [],
      "source": [
        "# Save image, then load and make sure the data type/distribution stays the same\n",
        "img = images[1].reshape(28, 28, 1)\n",
        "torch.save(img, 'three.pt')"
      ]
    },
    {
      "cell_type": "code",
      "execution_count": 4,
      "metadata": {
        "colab": {
          "base_uri": "https://localhost:8080/"
        },
        "collapsed": true,
        "id": "KLVsAvXWuUG6",
        "outputId": "fc6184f8-9d37-4c30-b53b-939eaf1e72a7"
      },
      "outputs": [
        {
          "name": "stdout",
          "output_type": "stream",
          "text": [
            "NeuralNetwork(\n",
            "  (flatten): Flatten(start_dim=1, end_dim=-1)\n",
            "  (linear_relu_stack): Sequential(\n",
            "    (0): Linear(in_features=784, out_features=512, bias=True)\n",
            "    (1): ReLU()\n",
            "    (2): Linear(in_features=512, out_features=512, bias=True)\n",
            "    (3): ReLU()\n",
            "    (4): Linear(in_features=512, out_features=10, bias=True)\n",
            "  )\n",
            ")\n"
          ]
        }
      ],
      "source": [
        "device = \"mps\"\n",
        "class NeuralNetwork(nn.Module):\n",
        "  def __init__(self):\n",
        "    super().__init__()\n",
        "    self.flatten = nn.Flatten()\n",
        "    self.linear_relu_stack = nn.Sequential(\n",
        "        nn.Linear(28*28, 512),\n",
        "        nn.ReLU(),\n",
        "        nn.Linear(512, 512),\n",
        "        nn.ReLU(),\n",
        "        nn.Linear(512, 10)\n",
        "    )\n",
        "\n",
        "  def forward(self, x):\n",
        "    x = self.flatten(x)\n",
        "    logits = self.linear_relu_stack(x)\n",
        "    return logits\n",
        "\n",
        "model = NeuralNetwork().to(device)\n",
        "print(model)\n",
        "\n"
      ]
    },
    {
      "cell_type": "code",
      "execution_count": 5,
      "metadata": {
        "id": "lipADqn9wufJ"
      },
      "outputs": [],
      "source": [
        "loss_fn = nn.CrossEntropyLoss()\n",
        "optimizer = torch.optim.SGD(model.parameters(), lr=1e-3)\n",
        "\n",
        "def train(dataloader, model, loss_fn, optimizer):\n",
        "  size = len(dataloader.dataset)\n",
        "  model.train()\n",
        "  for batch, (X, y) in enumerate(dataloader):\n",
        "    X, y = X.to(device), y.to(device)\n",
        "\n",
        "    pred = model(X)\n",
        "    loss = loss_fn(pred, y)\n",
        "\n",
        "    loss.backward()\n",
        "    optimizer.step()\n",
        "    optimizer.zero_grad()\n",
        "\n",
        "    if batch % 100 == 0:\n",
        "      loss, current = loss.item(), (batch + 1) * len(X)\n",
        "      print(f\"loss: {loss:>7f}  [{current:>5d}/{size:>5d}]\")\n",
        "\n",
        "def test(dataloader, model, loss_fn):\n",
        "    size = len(dataloader.dataset)\n",
        "    num_batches = len(dataloader)\n",
        "    model.eval()\n",
        "    test_loss, correct = 0, 0\n",
        "    with torch.no_grad():\n",
        "        for X, y in dataloader:\n",
        "            X, y = X.to(device), y.to(device)\n",
        "            pred = model(X)\n",
        "            test_loss += loss_fn(pred, y).item()\n",
        "            correct += (pred.argmax(1) == y).type(torch.float).sum().item()\n",
        "    test_loss /= num_batches\n",
        "    correct /= size\n",
        "    print(f\"Test Error: \\n Accuracy: {(100*correct):>0.1f}%, Avg loss: {test_loss:>8f} \\n\")"
      ]
    },
    {
      "cell_type": "code",
      "execution_count": 9,
      "metadata": {
        "colab": {
          "base_uri": "https://localhost:8080/"
        },
        "collapsed": true,
        "id": "x6lqTUY1xiNu",
        "outputId": "7e8d46be-c121-4b8e-bf17-778e3ea4625e"
      },
      "outputs": [
        {
          "name": "stdout",
          "output_type": "stream",
          "text": [
            "Epoch 1\n",
            "-------------------------------\n",
            "loss: 2.300709  [   64/60000]\n",
            "loss: 2.287632  [ 6464/60000]\n",
            "loss: 2.299720  [12864/60000]\n",
            "loss: 2.301715  [19264/60000]\n",
            "loss: 2.270795  [25664/60000]\n",
            "loss: 2.288174  [32064/60000]\n",
            "loss: 2.273882  [38464/60000]\n",
            "loss: 2.263458  [44864/60000]\n",
            "loss: 2.265608  [51264/60000]\n",
            "loss: 2.270803  [57664/60000]\n",
            "Test Error: \n",
            " Accuracy: 40.8%, Avg loss: 2.256516 \n",
            "\n",
            "Epoch 2\n",
            "-------------------------------\n",
            "loss: 2.260157  [   64/60000]\n",
            "loss: 2.249036  [ 6464/60000]\n",
            "loss: 2.239356  [12864/60000]\n",
            "loss: 2.240987  [19264/60000]\n",
            "loss: 2.233018  [25664/60000]\n",
            "loss: 2.233599  [32064/60000]\n",
            "loss: 2.212435  [38464/60000]\n",
            "loss: 2.213171  [44864/60000]\n",
            "loss: 2.219995  [51264/60000]\n",
            "loss: 2.195962  [57664/60000]\n",
            "Test Error: \n",
            " Accuracy: 55.8%, Avg loss: 2.192352 \n",
            "\n",
            "Epoch 3\n",
            "-------------------------------\n",
            "loss: 2.212326  [   64/60000]\n",
            "loss: 2.197248  [ 6464/60000]\n",
            "loss: 2.157324  [12864/60000]\n",
            "loss: 2.171942  [19264/60000]\n",
            "loss: 2.155426  [25664/60000]\n",
            "loss: 2.115762  [32064/60000]\n",
            "loss: 2.141913  [38464/60000]\n",
            "loss: 2.130223  [44864/60000]\n",
            "loss: 2.123759  [51264/60000]\n",
            "loss: 2.118234  [57664/60000]\n",
            "Test Error: \n",
            " Accuracy: 63.1%, Avg loss: 2.082611 \n",
            "\n",
            "Epoch 4\n",
            "-------------------------------\n",
            "loss: 2.061426  [   64/60000]\n",
            "loss: 2.070351  [ 6464/60000]\n",
            "loss: 2.031532  [12864/60000]\n",
            "loss: 2.080176  [19264/60000]\n",
            "loss: 2.035258  [25664/60000]\n",
            "loss: 2.015794  [32064/60000]\n",
            "loss: 1.953937  [38464/60000]\n",
            "loss: 1.906687  [44864/60000]\n",
            "loss: 1.893283  [51264/60000]\n",
            "loss: 1.918905  [57664/60000]\n",
            "Test Error: \n",
            " Accuracy: 67.3%, Avg loss: 1.891598 \n",
            "\n",
            "Epoch 5\n",
            "-------------------------------\n",
            "loss: 1.951041  [   64/60000]\n",
            "loss: 1.900972  [ 6464/60000]\n",
            "loss: 1.834436  [12864/60000]\n",
            "loss: 1.808193  [19264/60000]\n",
            "loss: 1.766454  [25664/60000]\n",
            "loss: 1.715159  [32064/60000]\n",
            "loss: 1.708705  [38464/60000]\n",
            "loss: 1.720042  [44864/60000]\n",
            "loss: 1.610094  [51264/60000]\n",
            "loss: 1.667037  [57664/60000]\n",
            "Test Error: \n",
            " Accuracy: 71.4%, Avg loss: 1.599713 \n",
            "\n",
            "Done!\n"
          ]
        }
      ],
      "source": [
        "epochs = 5\n",
        "for t in range(epochs):\n",
        "    print(f\"Epoch {t+1}\\n-------------------------------\")\n",
        "    train(train_loader, model, loss_fn, optimizer)\n",
        "    test(test_loader, model, loss_fn)\n",
        "print(\"Done!\")"
      ]
    },
    {
      "cell_type": "code",
      "execution_count": 10,
      "metadata": {
        "colab": {
          "base_uri": "https://localhost:8080/"
        },
        "collapsed": true,
        "id": "aBs4YSNMyfBf",
        "outputId": "a83166fa-056e-4518-d35c-75fa4a3d4416"
      },
      "outputs": [
        {
          "name": "stdout",
          "output_type": "stream",
          "text": [
            "Epoch 6\n",
            "-------------------------------\n",
            "loss: 1.656127  [   64/60000]\n",
            "loss: 1.539479  [ 6464/60000]\n",
            "loss: 1.512505  [12864/60000]\n",
            "loss: 1.475462  [19264/60000]\n",
            "loss: 1.522653  [25664/60000]\n",
            "loss: 1.458982  [32064/60000]\n",
            "loss: 1.426796  [38464/60000]\n",
            "loss: 1.331863  [44864/60000]\n",
            "loss: 1.359631  [51264/60000]\n",
            "loss: 1.401915  [57664/60000]\n",
            "Test Error: \n",
            " Accuracy: 77.3%, Avg loss: 1.274492 \n",
            "\n",
            "Epoch 7\n",
            "-------------------------------\n",
            "loss: 1.360435  [   64/60000]\n",
            "loss: 1.411161  [ 6464/60000]\n",
            "loss: 1.310790  [12864/60000]\n",
            "loss: 1.209724  [19264/60000]\n",
            "loss: 1.221130  [25664/60000]\n",
            "loss: 1.203022  [32064/60000]\n",
            "loss: 1.037735  [38464/60000]\n",
            "loss: 1.003032  [44864/60000]\n",
            "loss: 0.983368  [51264/60000]\n",
            "loss: 0.931680  [57664/60000]\n",
            "Test Error: \n",
            " Accuracy: 80.8%, Avg loss: 1.017084 \n",
            "\n",
            "Epoch 8\n",
            "-------------------------------\n",
            "loss: 1.066231  [   64/60000]\n",
            "loss: 1.018382  [ 6464/60000]\n",
            "loss: 1.006494  [12864/60000]\n",
            "loss: 0.832059  [19264/60000]\n",
            "loss: 0.934871  [25664/60000]\n",
            "loss: 1.081175  [32064/60000]\n",
            "loss: 0.948337  [38464/60000]\n",
            "loss: 0.769184  [44864/60000]\n",
            "loss: 0.949041  [51264/60000]\n",
            "loss: 0.932553  [57664/60000]\n",
            "Test Error: \n",
            " Accuracy: 82.2%, Avg loss: 0.842567 \n",
            "\n",
            "Epoch 9\n",
            "-------------------------------\n",
            "loss: 0.850661  [   64/60000]\n",
            "loss: 0.974293  [ 6464/60000]\n",
            "loss: 0.939655  [12864/60000]\n",
            "loss: 0.803509  [19264/60000]\n",
            "loss: 0.833865  [25664/60000]\n",
            "loss: 0.747057  [32064/60000]\n",
            "loss: 0.828788  [38464/60000]\n",
            "loss: 0.834368  [44864/60000]\n",
            "loss: 1.003181  [51264/60000]\n",
            "loss: 0.745683  [57664/60000]\n",
            "Test Error: \n",
            " Accuracy: 83.6%, Avg loss: 0.725527 \n",
            "\n",
            "Epoch 10\n",
            "-------------------------------\n",
            "loss: 0.783490  [   64/60000]\n",
            "loss: 0.650873  [ 6464/60000]\n",
            "loss: 0.697201  [12864/60000]\n",
            "loss: 0.755379  [19264/60000]\n",
            "loss: 0.654433  [25664/60000]\n",
            "loss: 0.739500  [32064/60000]\n",
            "loss: 0.791732  [38464/60000]\n",
            "loss: 0.748998  [44864/60000]\n",
            "loss: 0.808749  [51264/60000]\n",
            "loss: 0.616310  [57664/60000]\n",
            "Test Error: \n",
            " Accuracy: 84.6%, Avg loss: 0.643552 \n",
            "\n",
            "Epoch 11\n",
            "-------------------------------\n",
            "loss: 0.670408  [   64/60000]\n",
            "loss: 0.626719  [ 6464/60000]\n",
            "loss: 0.634824  [12864/60000]\n",
            "loss: 0.750303  [19264/60000]\n",
            "loss: 0.653263  [25664/60000]\n",
            "loss: 0.704808  [32064/60000]\n",
            "loss: 0.713326  [38464/60000]\n",
            "loss: 0.593243  [44864/60000]\n",
            "loss: 0.600482  [51264/60000]\n",
            "loss: 0.557940  [57664/60000]\n",
            "Test Error: \n",
            " Accuracy: 85.7%, Avg loss: 0.583958 \n",
            "\n",
            "Epoch 12\n",
            "-------------------------------\n",
            "loss: 0.796584  [   64/60000]\n",
            "loss: 0.628627  [ 6464/60000]\n",
            "loss: 0.759023  [12864/60000]\n",
            "loss: 0.489903  [19264/60000]\n",
            "loss: 0.554529  [25664/60000]\n",
            "loss: 0.526597  [32064/60000]\n",
            "loss: 0.410714  [38464/60000]\n",
            "loss: 0.625812  [44864/60000]\n",
            "loss: 0.535034  [51264/60000]\n",
            "loss: 0.418510  [57664/60000]\n",
            "Test Error: \n",
            " Accuracy: 86.6%, Avg loss: 0.538670 \n",
            "\n",
            "Epoch 13\n",
            "-------------------------------\n",
            "loss: 0.709577  [   64/60000]\n",
            "loss: 0.499784  [ 6464/60000]\n",
            "loss: 0.472331  [12864/60000]\n",
            "loss: 0.555995  [19264/60000]\n",
            "loss: 0.586890  [25664/60000]\n",
            "loss: 0.611455  [32064/60000]\n",
            "loss: 0.512041  [38464/60000]\n",
            "loss: 0.590915  [44864/60000]\n",
            "loss: 0.723061  [51264/60000]\n",
            "loss: 0.412042  [57664/60000]\n",
            "Test Error: \n",
            " Accuracy: 87.3%, Avg loss: 0.503621 \n",
            "\n",
            "Epoch 14\n",
            "-------------------------------\n",
            "loss: 0.482803  [   64/60000]\n",
            "loss: 0.584355  [ 6464/60000]\n",
            "loss: 0.532490  [12864/60000]\n",
            "loss: 0.671807  [19264/60000]\n",
            "loss: 0.450030  [25664/60000]\n",
            "loss: 0.618945  [32064/60000]\n",
            "loss: 0.512339  [38464/60000]\n",
            "loss: 0.467200  [44864/60000]\n",
            "loss: 0.359767  [51264/60000]\n",
            "loss: 0.496015  [57664/60000]\n",
            "Test Error: \n",
            " Accuracy: 87.7%, Avg loss: 0.475915 \n",
            "\n",
            "Epoch 15\n",
            "-------------------------------\n",
            "loss: 0.664033  [   64/60000]\n",
            "loss: 0.484077  [ 6464/60000]\n",
            "loss: 0.496708  [12864/60000]\n",
            "loss: 0.684138  [19264/60000]\n",
            "loss: 0.494157  [25664/60000]\n",
            "loss: 0.584485  [32064/60000]\n",
            "loss: 0.346378  [38464/60000]\n",
            "loss: 0.339333  [44864/60000]\n",
            "loss: 0.540946  [51264/60000]\n",
            "loss: 0.412444  [57664/60000]\n",
            "Test Error: \n",
            " Accuracy: 88.2%, Avg loss: 0.453285 \n",
            "\n",
            "Epoch 16\n",
            "-------------------------------\n",
            "loss: 0.456318  [   64/60000]\n",
            "loss: 0.491020  [ 6464/60000]\n",
            "loss: 0.370251  [12864/60000]\n",
            "loss: 0.371631  [19264/60000]\n",
            "loss: 0.510220  [25664/60000]\n",
            "loss: 0.546281  [32064/60000]\n",
            "loss: 0.429161  [38464/60000]\n",
            "loss: 0.359329  [44864/60000]\n",
            "loss: 0.470840  [51264/60000]\n",
            "loss: 0.534205  [57664/60000]\n",
            "Test Error: \n",
            " Accuracy: 88.6%, Avg loss: 0.434359 \n",
            "\n",
            "Epoch 17\n",
            "-------------------------------\n",
            "loss: 0.390160  [   64/60000]\n",
            "loss: 0.249853  [ 6464/60000]\n",
            "loss: 0.330703  [12864/60000]\n",
            "loss: 0.424268  [19264/60000]\n",
            "loss: 0.357308  [25664/60000]\n",
            "loss: 0.314370  [32064/60000]\n",
            "loss: 0.393792  [38464/60000]\n",
            "loss: 0.430519  [44864/60000]\n",
            "loss: 0.239634  [51264/60000]\n",
            "loss: 0.429579  [57664/60000]\n",
            "Test Error: \n",
            " Accuracy: 88.8%, Avg loss: 0.418118 \n",
            "\n",
            "Epoch 18\n",
            "-------------------------------\n",
            "loss: 0.411826  [   64/60000]\n",
            "loss: 0.422046  [ 6464/60000]\n",
            "loss: 0.346279  [12864/60000]\n",
            "loss: 0.560959  [19264/60000]\n",
            "loss: 0.383811  [25664/60000]\n",
            "loss: 0.411221  [32064/60000]\n",
            "loss: 0.449852  [38464/60000]\n",
            "loss: 0.664068  [44864/60000]\n",
            "loss: 0.495686  [51264/60000]\n",
            "loss: 0.337638  [57664/60000]\n",
            "Test Error: \n",
            " Accuracy: 89.0%, Avg loss: 0.405114 \n",
            "\n",
            "Epoch 19\n",
            "-------------------------------\n",
            "loss: 0.364304  [   64/60000]\n",
            "loss: 0.467821  [ 6464/60000]\n",
            "loss: 0.438925  [12864/60000]\n",
            "loss: 0.423384  [19264/60000]\n",
            "loss: 0.626190  [25664/60000]\n",
            "loss: 0.406941  [32064/60000]\n",
            "loss: 0.482047  [38464/60000]\n",
            "loss: 0.549166  [44864/60000]\n",
            "loss: 0.375174  [51264/60000]\n",
            "loss: 0.432439  [57664/60000]\n",
            "Test Error: \n",
            " Accuracy: 89.3%, Avg loss: 0.393474 \n",
            "\n",
            "Epoch 20\n",
            "-------------------------------\n",
            "loss: 0.463819  [   64/60000]\n",
            "loss: 0.315588  [ 6464/60000]\n",
            "loss: 0.343464  [12864/60000]\n",
            "loss: 0.465580  [19264/60000]\n",
            "loss: 0.454104  [25664/60000]\n",
            "loss: 0.469514  [32064/60000]\n",
            "loss: 0.318923  [38464/60000]\n",
            "loss: 0.355402  [44864/60000]\n",
            "loss: 0.279086  [51264/60000]\n",
            "loss: 0.547594  [57664/60000]\n",
            "Test Error: \n",
            " Accuracy: 89.4%, Avg loss: 0.383591 \n",
            "\n",
            "Done!\n"
          ]
        }
      ],
      "source": [
        "#more epochs\n",
        "epochs = 15\n",
        "for t in range(epochs):\n",
        "    print(f\"Epoch {t+6}\\n-------------------------------\")\n",
        "    train(train_loader, model, loss_fn, optimizer)\n",
        "    test(test_loader, model, loss_fn)\n",
        "print(\"Done!\")"
      ]
    },
    {
      "cell_type": "code",
      "execution_count": 13,
      "metadata": {
        "id": "uH0ef0WLzujK"
      },
      "outputs": [],
      "source": [
        "def reset_model(model):\n",
        "    for layer in model.children():\n",
        "        if hasattr(layer, 'reset_parameters'):\n",
        "            layer.reset_parameters()\n",
        "\n",
        "# Use this function to reset your model\n",
        "reset_model(model)"
      ]
    },
    {
      "cell_type": "code",
      "execution_count": 6,
      "metadata": {
        "id": "cc-m44EB1PnB"
      },
      "outputs": [],
      "source": [
        "def train_until_target_loss(model, train_loader, optimizer, loss_fn, target_loss=0.2):\n",
        "    model.train()\n",
        "    epoch = 0\n",
        "    loss_history = []\n",
        "    while True:\n",
        "        epoch += 1\n",
        "        total_loss = 0\n",
        "        for batch, (X, y) in enumerate(train_loader):\n",
        "            X, y = X.to(device), y.to(device)\n",
        "\n",
        "            optimizer.zero_grad()\n",
        "            pred = model(X)\n",
        "            loss = loss_fn(pred, y)\n",
        "            loss.backward()\n",
        "            optimizer.step()\n",
        "\n",
        "            total_loss += loss.item()\n",
        "\n",
        "        avg_loss = total_loss / len(train_loader)\n",
        "        loss_history.append(avg_loss)\n",
        "        print(f\"Epoch {epoch}, Loss: {avg_loss:.4f}\")\n",
        "\n",
        "        if avg_loss <= target_loss:\n",
        "            print(f\"Target loss reached after {epoch} epochs\")\n",
        "            break\n",
        "\n",
        "    return loss_history\n"
      ]
    },
    {
      "cell_type": "code",
      "execution_count": 7,
      "metadata": {
        "colab": {
          "base_uri": "https://localhost:8080/"
        },
        "collapsed": true,
        "id": "9RGCQLgO1354",
        "outputId": "8dca3f80-5a60-4776-9022-fa780d4f083e"
      },
      "outputs": [
        {
          "name": "stdout",
          "output_type": "stream",
          "text": [
            "Epoch 1, Loss: 2.2780\n",
            "Epoch 2, Loss: 2.2216\n",
            "Epoch 3, Loss: 2.1324\n",
            "Epoch 4, Loss: 1.9801\n",
            "Epoch 5, Loss: 1.7363\n",
            "Epoch 6, Loss: 1.4250\n",
            "Epoch 7, Loss: 1.1377\n",
            "Epoch 8, Loss: 0.9299\n",
            "Epoch 9, Loss: 0.7905\n",
            "Epoch 10, Loss: 0.6952\n",
            "Epoch 11, Loss: 0.6279\n",
            "Epoch 12, Loss: 0.5781\n",
            "Epoch 13, Loss: 0.5399\n",
            "Epoch 14, Loss: 0.5098\n",
            "Epoch 15, Loss: 0.4854\n",
            "Epoch 16, Loss: 0.4652\n",
            "Epoch 17, Loss: 0.4482\n",
            "Epoch 18, Loss: 0.4338\n",
            "Epoch 19, Loss: 0.4212\n",
            "Epoch 20, Loss: 0.4105\n",
            "Epoch 21, Loss: 0.4006\n",
            "Epoch 22, Loss: 0.3921\n",
            "Epoch 23, Loss: 0.3842\n",
            "Epoch 24, Loss: 0.3773\n",
            "Epoch 25, Loss: 0.3710\n",
            "Epoch 26, Loss: 0.3648\n",
            "Epoch 27, Loss: 0.3592\n",
            "Epoch 28, Loss: 0.3541\n",
            "Epoch 29, Loss: 0.3492\n",
            "Epoch 30, Loss: 0.3445\n",
            "Epoch 31, Loss: 0.3405\n",
            "Epoch 32, Loss: 0.3363\n",
            "Epoch 33, Loss: 0.3326\n",
            "Epoch 34, Loss: 0.3291\n",
            "Epoch 35, Loss: 0.3253\n",
            "Epoch 36, Loss: 0.3218\n",
            "Epoch 37, Loss: 0.3187\n",
            "Epoch 38, Loss: 0.3156\n",
            "Epoch 39, Loss: 0.3125\n",
            "Epoch 40, Loss: 0.3095\n",
            "Epoch 41, Loss: 0.3068\n",
            "Epoch 42, Loss: 0.3040\n",
            "Epoch 43, Loss: 0.3014\n",
            "Epoch 44, Loss: 0.2988\n",
            "Epoch 45, Loss: 0.2962\n",
            "Epoch 46, Loss: 0.2939\n",
            "Epoch 47, Loss: 0.2914\n",
            "Epoch 48, Loss: 0.2889\n",
            "Epoch 49, Loss: 0.2868\n",
            "Epoch 50, Loss: 0.2844\n",
            "Epoch 51, Loss: 0.2822\n",
            "Epoch 52, Loss: 0.2799\n",
            "Epoch 53, Loss: 0.2779\n",
            "Epoch 54, Loss: 0.2756\n",
            "Epoch 55, Loss: 0.2736\n",
            "Epoch 56, Loss: 0.2715\n",
            "Epoch 57, Loss: 0.2695\n",
            "Epoch 58, Loss: 0.2675\n",
            "Epoch 59, Loss: 0.2656\n",
            "Epoch 60, Loss: 0.2637\n",
            "Epoch 61, Loss: 0.2619\n",
            "Epoch 62, Loss: 0.2601\n",
            "Epoch 63, Loss: 0.2582\n",
            "Epoch 64, Loss: 0.2564\n",
            "Epoch 65, Loss: 0.2546\n",
            "Epoch 66, Loss: 0.2528\n",
            "Epoch 67, Loss: 0.2511\n",
            "Epoch 68, Loss: 0.2493\n",
            "Epoch 69, Loss: 0.2475\n",
            "Epoch 70, Loss: 0.2459\n",
            "Epoch 71, Loss: 0.2443\n",
            "Epoch 72, Loss: 0.2425\n",
            "Epoch 73, Loss: 0.2409\n",
            "Epoch 74, Loss: 0.2392\n",
            "Epoch 75, Loss: 0.2377\n",
            "Epoch 76, Loss: 0.2360\n",
            "Epoch 77, Loss: 0.2344\n",
            "Epoch 78, Loss: 0.2331\n",
            "Epoch 79, Loss: 0.2314\n",
            "Epoch 80, Loss: 0.2301\n",
            "Epoch 81, Loss: 0.2283\n",
            "Epoch 82, Loss: 0.2268\n",
            "Epoch 83, Loss: 0.2254\n",
            "Epoch 84, Loss: 0.2239\n",
            "Epoch 85, Loss: 0.2224\n",
            "Epoch 86, Loss: 0.2210\n",
            "Epoch 87, Loss: 0.2195\n",
            "Epoch 88, Loss: 0.2182\n",
            "Epoch 89, Loss: 0.2168\n",
            "Epoch 90, Loss: 0.2152\n",
            "Epoch 91, Loss: 0.2139\n",
            "Epoch 92, Loss: 0.2126\n",
            "Epoch 93, Loss: 0.2112\n",
            "Epoch 94, Loss: 0.2099\n",
            "Epoch 95, Loss: 0.2086\n",
            "Epoch 96, Loss: 0.2073\n",
            "Epoch 97, Loss: 0.2060\n",
            "Epoch 98, Loss: 0.2047\n",
            "Epoch 99, Loss: 0.2034\n",
            "Epoch 100, Loss: 0.2022\n",
            "Epoch 101, Loss: 0.2009\n",
            "Epoch 102, Loss: 0.1997\n",
            "Target loss reached after 102 epochs\n",
            "Test Error: \n",
            " Accuracy: 94.3%, Avg loss: 0.197729 \n",
            "\n"
          ]
        }
      ],
      "source": [
        "loss_history_1 = train_until_target_loss(model, train_loader, optimizer, loss_fn)\n",
        "test(test_loader, model, loss_fn)"
      ]
    },
    {
      "cell_type": "code",
      "execution_count": 14,
      "metadata": {
        "colab": {
          "base_uri": "https://localhost:8080/"
        },
        "id": "8wI197NA-ViW",
        "outputId": "f9a94da2-7197-4cd5-9627-3250fd2520a2"
      },
      "outputs": [
        {
          "name": "stdout",
          "output_type": "stream",
          "text": [
            "Epoch 1, Loss: 0.1778\n",
            "Epoch 2, Loss: 0.0785\n",
            "Epoch 3, Loss: 0.0546\n",
            "Epoch 4, Loss: 0.0379\n",
            "Target loss reached after 4 epochs\n"
          ]
        }
      ],
      "source": [
        "reset_model(model)\n",
        "optimizer = torch.optim.Adam(model.parameters(), lr=0.001)\n",
        "loss_history_2 = train_until_target_loss(model, train_loader, optimizer, loss_fn, target_loss=0.05)"
      ]
    },
    {
      "cell_type": "code",
      "execution_count": 8,
      "metadata": {
        "colab": {
          "base_uri": "https://localhost:8080/",
          "height": 424
        },
        "id": "kyGNj0md7DDb",
        "outputId": "6e0b49a4-6df5-4cab-b2e4-0c8175bb3a3e"
      },
      "outputs": [
        {
          "data": {
            "image/png": "[encoded data removed]",
            "text/plain": [
              "<Figure size 1000x600 with 1 Axes>"
            ]
          },
          "metadata": {},
          "output_type": "display_data"
        }
      ],
      "source": [
        "plt.figure(figsize=(10, 6))\n",
        "#plt.plot(loss_history_1, label='Training 1')\n",
        "plt.plot(loss_history_1, label='Training 1')\n",
        "plt.xlabel('Epoch')\n",
        "plt.ylabel('Loss')\n",
        "plt.title('Training Loss Comparison')\n",
        "plt.legend()\n",
        "plt.grid(True)\n",
        "plt.show()"
      ]
    },
    {
      "cell_type": "code",
      "execution_count": 65,
      "metadata": {
        "colab": {
          "base_uri": "https://localhost:8080/",
          "height": 216
        },
        "id": "Ao5LDgN67YC5",
        "outputId": "90e0332e-3eb2-459e-bfc5-b7b045c38a43"
      },
      "outputs": [
        {
          "name": "stdout",
          "output_type": "stream",
          "text": [
            "torch.Size([1, 28, 28])\n",
            "Predicted: \"7\", Actual: \"7\"\n"
          ]
        }
      ],
      "source": [
        "classes = [0, 1, 2, 3, 4, 5, 6, 7, 8, 9]\n",
        "\n",
        "model.eval()\n",
        "x, y = test_dataset[0][0], test_dataset[0][1]\n",
        "with torch.no_grad():\n",
        "    x = x.to(device)\n",
        "    pred = model(x)\n",
        "    predicted, actual = classes[pred[0].argmax(0)], classes[y]\n",
        "    # plt.imshow(x.reshape(28, 28), cmap='gray')\n",
        "    print(f'Predicted: \"{predicted}\", Actual: \"{actual}\"')"
      ]
    },
    {
      "cell_type": "code",
      "execution_count": 21,
      "metadata": {},
      "outputs": [],
      "source": [
        "torch.save(model.state_dict(), 'model_weights.pth')"
      ]
    },
    {
      "cell_type": "code",
      "execution_count": 29,
      "metadata": {},
      "outputs": [
        {
          "name": "stdout",
          "output_type": "stream",
          "text": [
            "torch.Size([1, 28, 28])\n"
          ]
        },
        {
          "data": {
            "text/plain": [
              "<matplotlib.image.AxesImage at 0x306191370>"
            ]
          },
          "execution_count": 29,
          "metadata": {},
          "output_type": "execute_result"
        },
        {
          "data": {
            "image/png": "[encoded data removed]",
            "text/plain": [
              "<Figure size 640x480 with 1 Axes>"
            ]
          },
          "metadata": {},
          "output_type": "display_data"
        }
      ],
      "source": [
        "image = images[0].reshape(28, 28)\n",
        "\n",
        "# Save the image using imsave\n",
        "#plt.imsave(\"mnist_0.png\", image, cmap='gray')\n",
        "plt.imshow(image, cmap='gray')"
      ]
    },
    {
      "cell_type": "code",
      "execution_count": 60,
      "metadata": {},
      "outputs": [
        {
          "name": "stdout",
          "output_type": "stream",
          "text": [
            "<class 'numpy.ndarray'>\n"
          ]
        },
        {
          "data": {
            "image/png": "[encoded data removed]",
            "text/plain": [
              "<Figure size 640x480 with 1 Axes>"
            ]
          },
          "metadata": {},
          "output_type": "display_data"
        }
      ],
      "source": [
        "load_image = plt.imread('draw_8.png')\n",
        "if load_image.shape[-1] in [3, 4]:  # RGB or RGBA\n",
        "    load_image = np.mean(load_image[:, :, :3], axis=-1)  # Convert to grayscale by averaging RGB channels\n",
        "elif load_image.shape[-1] == 1:  # Already grayscale\n",
        "    mnist_draw = load_image[:, :, 0]\n",
        "\n",
        "\n",
        "inv_load_image = 255 - load_image\n",
        "plt.imshow(inv_load_image, cmap='gray')\n",
        "print(type(inv_load_image))"
      ]
    },
    {
      "cell_type": "code",
      "execution_count": 61,
      "metadata": {},
      "outputs": [
        {
          "name": "stdout",
          "output_type": "stream",
          "text": [
            "torch.Size([28, 28])\n"
          ]
        }
      ],
      "source": [
        "load_tensor = torch.from_numpy(inv_load_image)\n",
        "print(load_tensor.shape)"
      ]
    },
    {
      "cell_type": "code",
      "execution_count": 63,
      "metadata": {},
      "outputs": [
        {
          "name": "stdout",
          "output_type": "stream",
          "text": [
            "Predicted: \"2\"\n"
          ]
        }
      ],
      "source": [
        "classes = [0, 1, 2, 3, 4, 5, 6, 7, 8, 9]\n",
        "\n",
        "model.eval()\n",
        "x = load_tensor.reshape(1, 28, 28)\n",
        "with torch.no_grad():\n",
        "    x = x.to(device)\n",
        "    pred = model(x)\n",
        "    predicted = classes[pred[0].argmax(0)]\n",
        "    print(f'Predicted: \"{predicted}\"')"
      ]
    }
  ],
  "metadata": {
    "colab": {
      "provenance": []
    },
    "kernelspec": {
      "display_name": "Python 3",
      "name": "python3"
    },
    "language_info": {
      "codemirror_mode": {
        "name": "ipython",
        "version": 3
      },
      "file_extension": ".py",
      "mimetype": "text/x-python",
      "name": "python",
      "nbconvert_exporter": "python",
      "pygments_lexer": "ipython3",
      "version": "3.13.2"
    }
  },
  "nbformat": 4,
  "nbformat_minor": 0
}
