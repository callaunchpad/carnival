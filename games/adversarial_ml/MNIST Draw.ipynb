{
 "cells": [
  {
   "cell_type": "code",
   "execution_count": 2,
   "metadata": {},
   "outputs": [],
   "source": [
    "import tkinter as tk\n",
    "from PIL import Image, ImageDraw\n",
    "import torch\n",
    "from torch import nn\n",
    "from torchvision import transforms\n",
    "import matplotlib.pyplot as plt"
   ]
  },
  {
   "cell_type": "code",
   "execution_count": 3,
   "metadata": {},
   "outputs": [
    {
     "data": {
      "text/plain": [
       "NeuralNetwork(\n",
       "  (flatten): Flatten(start_dim=1, end_dim=-1)\n",
       "  (linear_relu_stack): Sequential(\n",
       "    (0): Linear(in_features=784, out_features=512, bias=True)\n",
       "    (1): ReLU()\n",
       "    (2): Linear(in_features=512, out_features=512, bias=True)\n",
       "    (3): ReLU()\n",
       "    (4): Linear(in_features=512, out_features=10, bias=True)\n",
       "  )\n",
       ")"
      ]
     },
     "execution_count": 3,
     "metadata": {},
     "output_type": "execute_result"
    }
   ],
   "source": [
    "device = \"mps\"\n",
    "class NeuralNetwork(nn.Module):\n",
    "  def __init__(self):\n",
    "    super().__init__()\n",
    "    self.flatten = nn.Flatten()\n",
    "    self.linear_relu_stack = nn.Sequential(\n",
    "        nn.Linear(28*28, 512),\n",
    "        nn.ReLU(),\n",
    "        nn.Linear(512, 512),\n",
    "        nn.ReLU(),\n",
    "        nn.Linear(512, 10)\n",
    "    )\n",
    "\n",
    "  def forward(self, x):\n",
    "    x = self.flatten(x)\n",
    "    logits = self.linear_relu_stack(x)\n",
    "    return logits\n",
    "\n",
    "model = NeuralNetwork().to(device)\n",
    "model.load_state_dict(torch.load('MNIST_model.pth'))\n",
    "\n",
    "# Set the model to evaluation mode\n",
    "model.eval()"
   ]
  },
  {
   "cell_type": "code",
   "execution_count": 16,
   "metadata": {},
   "outputs": [
    {
     "data": {
      "image/png": "[encoded data removed]",
      "text/plain": [
       "<Figure size 640x480 with 1 Axes>"
      ]
     },
     "metadata": {},
     "output_type": "display_data"
    },
    {
     "name": "stdout",
     "output_type": "stream",
     "text": [
      "Predicted: \"1\"\n"
     ]
    }
   ],
   "source": [
    "class DrawCanvas(tk.Tk):\n",
    "    def __init__(self):\n",
    "        super().__init__()\n",
    "        self.title(\"Draw a Digit\")\n",
    "\n",
    "        # Set the size of the drawing canvas to be larger (e.g., 280x280)\n",
    "        self.canvas_size = 280\n",
    "        self.grid_size = 28\n",
    "\n",
    "        # Create a blank canvas to draw on (larger window for ease of drawing)\n",
    "        self.canvas = tk.Canvas(self, width=self.canvas_size, height=self.canvas_size, bg=\"white\")\n",
    "        self.canvas.pack()\n",
    "\n",
    "        # Set up the image for drawing (the image will be 28x28)\n",
    "        self.image = Image.new(\"L\", (self.grid_size, self.grid_size), color=255)  # 28x28\n",
    "        self.draw = ImageDraw.Draw(self.image)\n",
    "\n",
    "        # Previous x, y coordinates for continuous drawing\n",
    "        self.prev_x = None\n",
    "        self.prev_y = None\n",
    "\n",
    "        # Bind mouse events for drawing\n",
    "        self.canvas.bind(\"<B1-Motion>\", self.paint)\n",
    "\n",
    "        # Add a button to predict the drawn digit\n",
    "        self.predict_button = tk.Button(self, text=\"Predict\", command=self.predict)\n",
    "        self.predict_button.pack()\n",
    "\n",
    "    def paint(self, event):\n",
    "        # Draw continuously by connecting previous and current points\n",
    "        # Map the canvas coordinates (larger window) to the 28x28 grid\n",
    "        x = event.x * self.grid_size / self.canvas_size\n",
    "        y = event.y * self.grid_size / self.canvas_size\n",
    "\n",
    "        if self.prev_x is not None and self.prev_y is not None:\n",
    "            # Draw continuous lines on the large canvas\n",
    "            self.canvas.create_line(self.prev_x, self.prev_y, event.x, event.y, width=20, fill=\"black\", capstyle=tk.ROUND, smooth=tk.TRUE)\n",
    "            # Draw continuous lines on the smaller 28x28 image\n",
    "            self.draw.line([self.prev_x * self.grid_size / self.canvas_size, self.prev_y * self.grid_size / self.canvas_size, \n",
    "                            x, y], fill=0, width=2)\n",
    "\n",
    "##\n",
    "# def draw_line_with_fade(self, x1, y1, x2, y2):\n",
    "#       steps = 10  # Number of fading steps\n",
    "#       r1, g1, b1 = self.master.winfo_rgb(self.brush_color)\n",
    "#       r2, g2, b2 = r1, g1, b1 # Target color is the same as initial color\n",
    "\n",
    "#       for i in range(steps):\n",
    "#           r = int(r1 + (r2 - r1) * i / steps)\n",
    "#           g = int(g1 + (g2 - g1) * i / steps)\n",
    "#           b = int(b1 + (b2 - b1) * i / steps)\n",
    "          \n",
    "#           # Convert RGB to Tkinter color string\n",
    "#           color = '#%02x%02x%02x' % (r // 256, g // 256, b // 256)\n",
    "          \n",
    "#           # Draw line segment with current color\n",
    "#           self.canvas.create_line(x1, y1, x2, y2, width=self.line_width, fill=color, smooth=True)\n",
    "##\n",
    "\n",
    "        self.prev_x = event.x\n",
    "        self.prev_y = event.y\n",
    "\n",
    "    def predict(self):\n",
    "        # Predict the digit from the drawn image\n",
    "        label = self.predict_image(self.image)\n",
    "        #print(f\"Predicted digit: {label}\")\n",
    "\n",
    "    def predict_image(self, image):\n",
    "        # Transform the image (resize to 28x28, convert to tensor, normalize)\n",
    "        transform = transforms.Compose([\n",
    "            transforms.Resize((self.grid_size, self.grid_size)),  # Resize the image to 28x28 (for consistency)\n",
    "            transforms.Grayscale(num_output_channels=1),  # Ensure it's grayscale\n",
    "            transforms.ToTensor(),  # Convert to a tensor\n",
    "            transforms.Normalize((0.1307,), (0.3081,))  # Normalize (apply the same normalization as used in training)\n",
    "        ])\n",
    "        \n",
    "        # Apply the transformation to the image and move it to the correct device\n",
    "        image = transform(image).unsqueeze(0).to(device)  # Add batch dimension and move to device\n",
    "        \n",
    "        # Convert the tensor to a NumPy array for displaying\n",
    "        image_np = image.squeeze().cpu().numpy()  # Remove batch dimension and move to CPU for display\n",
    "        \n",
    "        # Display the resized image using plt.imshow()\n",
    "        plt.imshow(image_np, cmap='gray')\n",
    "        plt.imsave(\"mnist_draw.png\", image_np, cmap='gray')\n",
    "        plt.title(\"Resized Image (28x28)\")\n",
    "        plt.show()\n",
    "\n",
    "        classes = [0, 1, 2, 3, 4, 5, 6, 7, 8, 9]\n",
    "        x = torch.tensor(image_np).unsqueeze(0).to(device)\n",
    "        with torch.no_grad():\n",
    "            pred = model(x)\n",
    "            predicted = classes[pred[0].argmax(0)]\n",
    "            print(f'Predicted: \"{predicted}\"')\n",
    "\n",
    "        # Make the prediction\n",
    "        # output = model(image)  # Forward pass\n",
    "        # _, predicted = torch.max(output, 1)  # Get the class with the highest probability\n",
    "        # return predicted.item()\n",
    "\n",
    "# Run the app\n",
    "app = DrawCanvas()\n",
    "app.mainloop()"
   ]
  }
 ],
 "metadata": {
  "kernelspec": {
   "display_name": "Python 3",
   "language": "python",
   "name": "python3"
  },
  "language_info": {
   "codemirror_mode": {
    "name": "ipython",
    "version": 3
   },
   "file_extension": ".py",
   "mimetype": "text/x-python",
   "name": "python",
   "nbconvert_exporter": "python",
   "pygments_lexer": "ipython3",
   "version": "3.9.13"
  }
 },
 "nbformat": 4,
 "nbformat_minor": 2
}
